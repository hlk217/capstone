{
 "cells": [
  {
   "cell_type": "code",
   "execution_count": 1,
   "metadata": {},
   "outputs": [],
   "source": [
    "import urllib"
   ]
  },
  {
   "cell_type": "code",
   "execution_count": 1,
   "metadata": {},
   "outputs": [],
   "source": [
    "import pandas as pd"
   ]
  },
  {
   "cell_type": "code",
   "execution_count": 5,
   "metadata": {},
   "outputs": [],
   "source": [
    "tops = pd.read_csv('tops.csv')"
   ]
  },
  {
   "cell_type": "code",
   "execution_count": 2,
   "metadata": {},
   "outputs": [],
   "source": [
    "import requests"
   ]
  },
  {
   "cell_type": "code",
   "execution_count": 3,
   "metadata": {},
   "outputs": [],
   "source": [
    "import shutil"
   ]
  },
  {
   "cell_type": "code",
   "execution_count": 4,
   "metadata": {},
   "outputs": [],
   "source": [
    "import re"
   ]
  },
  {
   "cell_type": "code",
   "execution_count": 6,
   "metadata": {},
   "outputs": [
    {
     "data": {
      "text/html": [
       "<div>\n",
       "<style scoped>\n",
       "    .dataframe tbody tr th:only-of-type {\n",
       "        vertical-align: middle;\n",
       "    }\n",
       "\n",
       "    .dataframe tbody tr th {\n",
       "        vertical-align: top;\n",
       "    }\n",
       "\n",
       "    .dataframe thead th {\n",
       "        text-align: right;\n",
       "    }\n",
       "</style>\n",
       "<table border=\"1\" class=\"dataframe\">\n",
       "  <thead>\n",
       "    <tr style=\"text-align: right;\">\n",
       "      <th></th>\n",
       "      <th>price</th>\n",
       "      <th>material</th>\n",
       "      <th>description</th>\n",
       "      <th>imgurl</th>\n",
       "      <th>title</th>\n",
       "    </tr>\n",
       "  </thead>\n",
       "  <tbody>\n",
       "    <tr>\n",
       "      <th>0</th>\n",
       "      <td>\\r\\n                $4.99\\r\\n</td>\n",
       "      <td>Front: Length: 63.0 cm (Size M)</td>\n",
       "      <td>T-shirt in lightweight cotton jersey with a ro...</td>\n",
       "      <td>https://lp2.hm.com/hmgoepprod?set=source[/7d/5...</td>\n",
       "      <td>\\r\\n\\t\\t\\t\\t\\t\\t\\t  Cotton T-shirt\\r\\n\\t\\t\\t\\t...</td>\n",
       "    </tr>\n",
       "    <tr>\n",
       "      <th>1</th>\n",
       "      <td>\\r\\n                $14.99\\r\\n</td>\n",
       "      <td>Viscose 100%</td>\n",
       "      <td>Long-sleeved top in airy viscose jersey with a...</td>\n",
       "      <td>https://lp2.hm.com/hmgoepprod?set=source[/3d/e...</td>\n",
       "      <td>\\r\\n\\t\\t\\t\\t\\t\\t\\t  V-neck Jersey Top\\r\\n\\t\\t\\...</td>\n",
       "    </tr>\n",
       "    <tr>\n",
       "      <th>2</th>\n",
       "      <td>\\r\\n                $9.99\\r\\n</td>\n",
       "      <td>Viscose 100%</td>\n",
       "      <td>Sleeveless top in soft viscose jersey with lac...</td>\n",
       "      <td>https://lp2.hm.com/hmgoepprod?set=source[/17/0...</td>\n",
       "      <td>\\r\\n\\t\\t\\t\\t\\t\\t\\t  Jersey Top with Lace\\r\\n\\t...</td>\n",
       "    </tr>\n",
       "    <tr>\n",
       "      <th>3</th>\n",
       "      <td>\\r\\n                $9.99\\r\\n</td>\n",
       "      <td>Polyester 100%</td>\n",
       "      <td>CONSCIOUS. V-neck top in airy jersey made from...</td>\n",
       "      <td>https://lp2.hm.com/hmgoepprod?set=source[/6c/8...</td>\n",
       "      <td>\\r\\n\\t\\t\\t\\t\\t\\t\\t  V-neck Top\\r\\n\\t\\t\\t\\t\\t\\t\\t</td>\n",
       "    </tr>\n",
       "    <tr>\n",
       "      <th>4</th>\n",
       "      <td>\\r\\n                $2.99\\r\\n</td>\n",
       "      <td>Fitted</td>\n",
       "      <td>Fitted camisole top in jersey with narrow shou...</td>\n",
       "      <td>https://lp2.hm.com/hmgoepprod?set=source[/e4/8...</td>\n",
       "      <td>\\r\\n\\t\\t\\t\\t\\t\\t\\t  Jersey Camisole Top\\r\\n\\t\\...</td>\n",
       "    </tr>\n",
       "  </tbody>\n",
       "</table>\n",
       "</div>"
      ],
      "text/plain": [
       "                                        price  \\\n",
       "0   \\r\\n                $4.99\\r\\n               \n",
       "1  \\r\\n                $14.99\\r\\n               \n",
       "2   \\r\\n                $9.99\\r\\n               \n",
       "3   \\r\\n                $9.99\\r\\n               \n",
       "4   \\r\\n                $2.99\\r\\n               \n",
       "\n",
       "                          material  \\\n",
       "0  Front: Length: 63.0 cm (Size M)   \n",
       "1                     Viscose 100%   \n",
       "2                     Viscose 100%   \n",
       "3                   Polyester 100%   \n",
       "4                           Fitted   \n",
       "\n",
       "                                         description  \\\n",
       "0  T-shirt in lightweight cotton jersey with a ro...   \n",
       "1  Long-sleeved top in airy viscose jersey with a...   \n",
       "2  Sleeveless top in soft viscose jersey with lac...   \n",
       "3  CONSCIOUS. V-neck top in airy jersey made from...   \n",
       "4  Fitted camisole top in jersey with narrow shou...   \n",
       "\n",
       "                                              imgurl  \\\n",
       "0  https://lp2.hm.com/hmgoepprod?set=source[/7d/5...   \n",
       "1  https://lp2.hm.com/hmgoepprod?set=source[/3d/e...   \n",
       "2  https://lp2.hm.com/hmgoepprod?set=source[/17/0...   \n",
       "3  https://lp2.hm.com/hmgoepprod?set=source[/6c/8...   \n",
       "4  https://lp2.hm.com/hmgoepprod?set=source[/e4/8...   \n",
       "\n",
       "                                               title  \n",
       "0  \\r\\n\\t\\t\\t\\t\\t\\t\\t  Cotton T-shirt\\r\\n\\t\\t\\t\\t...  \n",
       "1  \\r\\n\\t\\t\\t\\t\\t\\t\\t  V-neck Jersey Top\\r\\n\\t\\t\\...  \n",
       "2  \\r\\n\\t\\t\\t\\t\\t\\t\\t  Jersey Top with Lace\\r\\n\\t...  \n",
       "3   \\r\\n\\t\\t\\t\\t\\t\\t\\t  V-neck Top\\r\\n\\t\\t\\t\\t\\t\\t\\t  \n",
       "4  \\r\\n\\t\\t\\t\\t\\t\\t\\t  Jersey Camisole Top\\r\\n\\t\\...  "
      ]
     },
     "execution_count": 6,
     "metadata": {},
     "output_type": "execute_result"
    }
   ],
   "source": [
    "tops.head()"
   ]
  },
  {
   "cell_type": "code",
   "execution_count": 7,
   "metadata": {},
   "outputs": [],
   "source": [
    "for i in range(0,len(tops)):\n",
    "    tops.loc[i,'title'] = re.sub('\\s+',' ',tops.loc[i,'title']).strip()"
   ]
  },
  {
   "cell_type": "code",
   "execution_count": 20,
   "metadata": {},
   "outputs": [],
   "source": [
    "img_id = []\n",
    "for i in range(0,len(dresses)):\n",
    "    img_name = str(i) + \" \" + dresses.loc[i,'title']\n",
    "    img_id.append(img_name)"
   ]
  },
  {
   "cell_type": "code",
   "execution_count": 21,
   "metadata": {},
   "outputs": [],
   "source": [
    "dresses['img_id'] = img_id"
   ]
  },
  {
   "cell_type": "code",
   "execution_count": 22,
   "metadata": {},
   "outputs": [
    {
     "data": {
      "text/plain": [
       "0             0 Lace Dress\n",
       "1    1 Short-sleeved Dress\n",
       "2            2 Short Dress\n",
       "3     3 Fitted Shirt Dress\n",
       "4            4 Shirt Dress\n",
       "Name: img_id, dtype: object"
      ]
     },
     "execution_count": 22,
     "metadata": {},
     "output_type": "execute_result"
    }
   ],
   "source": [
    "dresses.img_id.head()"
   ]
  },
  {
   "cell_type": "code",
   "execution_count": 15,
   "metadata": {},
   "outputs": [],
   "source": [
    "tops['img_id'] = img_id"
   ]
  },
  {
   "cell_type": "code",
   "execution_count": 16,
   "metadata": {},
   "outputs": [],
   "source": [
    "for i in range(0,len(tops)):\n",
    "    r = requests.get(tops.loc[i,'imgurl'],\n",
    "                 stream=True, headers={'User-agent': 'Mozilla/5.0'})\n",
    "    with open(\"{}.jpg\".format(tops.loc[i,'img_id']), 'wb') as f:\n",
    "        r.raw.decode_content = True\n",
    "        shutil.copyfileobj(r.raw, f)"
   ]
  },
  {
   "cell_type": "code",
   "execution_count": 17,
   "metadata": {},
   "outputs": [],
   "source": [
    "dresses = pd.read_csv(\"dresses.csv\")"
   ]
  },
  {
   "cell_type": "code",
   "execution_count": 18,
   "metadata": {},
   "outputs": [],
   "source": [
    "for i in range(0,len(dresses)):\n",
    "    dresses.loc[i,'title'] = re.sub('\\s+',' ',dresses.loc[i,'title']).strip()"
   ]
  },
  {
   "cell_type": "code",
   "execution_count": 19,
   "metadata": {},
   "outputs": [
    {
     "data": {
      "text/html": [
       "<div>\n",
       "<style scoped>\n",
       "    .dataframe tbody tr th:only-of-type {\n",
       "        vertical-align: middle;\n",
       "    }\n",
       "\n",
       "    .dataframe tbody tr th {\n",
       "        vertical-align: top;\n",
       "    }\n",
       "\n",
       "    .dataframe thead th {\n",
       "        text-align: right;\n",
       "    }\n",
       "</style>\n",
       "<table border=\"1\" class=\"dataframe\">\n",
       "  <thead>\n",
       "    <tr style=\"text-align: right;\">\n",
       "      <th></th>\n",
       "      <th>price</th>\n",
       "      <th>material</th>\n",
       "      <th>description</th>\n",
       "      <th>imgurl</th>\n",
       "      <th>title</th>\n",
       "    </tr>\n",
       "  </thead>\n",
       "  <tbody>\n",
       "    <tr>\n",
       "      <th>0</th>\n",
       "      <td>\\r\\n                $79.99\\r\\n</td>\n",
       "      <td>Inner layer: Polyester 100%</td>\n",
       "      <td>Calf-length lace dress with a V-neck. Narrow, ...</td>\n",
       "      <td>https://lp2.hm.com/hmgoepprod?set=source[/b3/e...</td>\n",
       "      <td>Lace Dress</td>\n",
       "    </tr>\n",
       "    <tr>\n",
       "      <th>1</th>\n",
       "      <td>\\r\\n                $29.99\\r\\n</td>\n",
       "      <td>Polyester 92%; Elastane 8%</td>\n",
       "      <td>Short dress in jersey with a printed design. S...</td>\n",
       "      <td>https://lp2.hm.com/hmgoepprod?set=source[/d4/f...</td>\n",
       "      <td>Short-sleeved Dress</td>\n",
       "    </tr>\n",
       "    <tr>\n",
       "      <th>2</th>\n",
       "      <td>\\r\\n                $29.99\\r\\n</td>\n",
       "      <td>Viscose 100%</td>\n",
       "      <td>Short dress in washed, woven viscose fabric wi...</td>\n",
       "      <td>https://lp2.hm.com/hmgoepprod?set=source[/b7/3...</td>\n",
       "      <td>Short Dress</td>\n",
       "    </tr>\n",
       "    <tr>\n",
       "      <th>3</th>\n",
       "      <td>\\r\\n                $49.99\\r\\n</td>\n",
       "      <td>Fitted</td>\n",
       "      <td>Short, fitted dress in stretch denim with a co...</td>\n",
       "      <td>https://lp2.hm.com/hmgoepprod?set=source[/97/4...</td>\n",
       "      <td>Fitted Shirt Dress</td>\n",
       "    </tr>\n",
       "    <tr>\n",
       "      <th>4</th>\n",
       "      <td>\\r\\n                $24.99\\r\\n</td>\n",
       "      <td>Viscose 100%</td>\n",
       "      <td>Shirt dress in soft woven fabric. Buttons at f...</td>\n",
       "      <td>https://lp2.hm.com/hmgoepprod?set=source[/1c/9...</td>\n",
       "      <td>Shirt Dress</td>\n",
       "    </tr>\n",
       "  </tbody>\n",
       "</table>\n",
       "</div>"
      ],
      "text/plain": [
       "                                        price                     material  \\\n",
       "0  \\r\\n                $79.99\\r\\n              Inner layer: Polyester 100%   \n",
       "1  \\r\\n                $29.99\\r\\n               Polyester 92%; Elastane 8%   \n",
       "2  \\r\\n                $29.99\\r\\n                             Viscose 100%   \n",
       "3  \\r\\n                $49.99\\r\\n                                   Fitted   \n",
       "4  \\r\\n                $24.99\\r\\n                             Viscose 100%   \n",
       "\n",
       "                                         description  \\\n",
       "0  Calf-length lace dress with a V-neck. Narrow, ...   \n",
       "1  Short dress in jersey with a printed design. S...   \n",
       "2  Short dress in washed, woven viscose fabric wi...   \n",
       "3  Short, fitted dress in stretch denim with a co...   \n",
       "4  Shirt dress in soft woven fabric. Buttons at f...   \n",
       "\n",
       "                                              imgurl                title  \n",
       "0  https://lp2.hm.com/hmgoepprod?set=source[/b3/e...           Lace Dress  \n",
       "1  https://lp2.hm.com/hmgoepprod?set=source[/d4/f...  Short-sleeved Dress  \n",
       "2  https://lp2.hm.com/hmgoepprod?set=source[/b7/3...          Short Dress  \n",
       "3  https://lp2.hm.com/hmgoepprod?set=source[/97/4...   Fitted Shirt Dress  \n",
       "4  https://lp2.hm.com/hmgoepprod?set=source[/1c/9...          Shirt Dress  "
      ]
     },
     "execution_count": 19,
     "metadata": {},
     "output_type": "execute_result"
    }
   ],
   "source": [
    "dresses.head()"
   ]
  },
  {
   "cell_type": "code",
   "execution_count": 23,
   "metadata": {},
   "outputs": [
    {
     "data": {
      "text/html": [
       "<div>\n",
       "<style scoped>\n",
       "    .dataframe tbody tr th:only-of-type {\n",
       "        vertical-align: middle;\n",
       "    }\n",
       "\n",
       "    .dataframe tbody tr th {\n",
       "        vertical-align: top;\n",
       "    }\n",
       "\n",
       "    .dataframe thead th {\n",
       "        text-align: right;\n",
       "    }\n",
       "</style>\n",
       "<table border=\"1\" class=\"dataframe\">\n",
       "  <thead>\n",
       "    <tr style=\"text-align: right;\">\n",
       "      <th></th>\n",
       "      <th>price</th>\n",
       "      <th>material</th>\n",
       "      <th>description</th>\n",
       "      <th>imgurl</th>\n",
       "      <th>title</th>\n",
       "      <th>img_id</th>\n",
       "    </tr>\n",
       "  </thead>\n",
       "  <tbody>\n",
       "    <tr>\n",
       "      <th>0</th>\n",
       "      <td>\\r\\n                $79.99\\r\\n</td>\n",
       "      <td>Inner layer: Polyester 100%</td>\n",
       "      <td>Calf-length lace dress with a V-neck. Narrow, ...</td>\n",
       "      <td>https://lp2.hm.com/hmgoepprod?set=source[/b3/e...</td>\n",
       "      <td>Lace Dress</td>\n",
       "      <td>0 Lace Dress</td>\n",
       "    </tr>\n",
       "    <tr>\n",
       "      <th>1</th>\n",
       "      <td>\\r\\n                $29.99\\r\\n</td>\n",
       "      <td>Polyester 92%; Elastane 8%</td>\n",
       "      <td>Short dress in jersey with a printed design. S...</td>\n",
       "      <td>https://lp2.hm.com/hmgoepprod?set=source[/d4/f...</td>\n",
       "      <td>Short-sleeved Dress</td>\n",
       "      <td>1 Short-sleeved Dress</td>\n",
       "    </tr>\n",
       "    <tr>\n",
       "      <th>2</th>\n",
       "      <td>\\r\\n                $29.99\\r\\n</td>\n",
       "      <td>Viscose 100%</td>\n",
       "      <td>Short dress in washed, woven viscose fabric wi...</td>\n",
       "      <td>https://lp2.hm.com/hmgoepprod?set=source[/b7/3...</td>\n",
       "      <td>Short Dress</td>\n",
       "      <td>2 Short Dress</td>\n",
       "    </tr>\n",
       "    <tr>\n",
       "      <th>3</th>\n",
       "      <td>\\r\\n                $49.99\\r\\n</td>\n",
       "      <td>Fitted</td>\n",
       "      <td>Short, fitted dress in stretch denim with a co...</td>\n",
       "      <td>https://lp2.hm.com/hmgoepprod?set=source[/97/4...</td>\n",
       "      <td>Fitted Shirt Dress</td>\n",
       "      <td>3 Fitted Shirt Dress</td>\n",
       "    </tr>\n",
       "    <tr>\n",
       "      <th>4</th>\n",
       "      <td>\\r\\n                $24.99\\r\\n</td>\n",
       "      <td>Viscose 100%</td>\n",
       "      <td>Shirt dress in soft woven fabric. Buttons at f...</td>\n",
       "      <td>https://lp2.hm.com/hmgoepprod?set=source[/1c/9...</td>\n",
       "      <td>Shirt Dress</td>\n",
       "      <td>4 Shirt Dress</td>\n",
       "    </tr>\n",
       "  </tbody>\n",
       "</table>\n",
       "</div>"
      ],
      "text/plain": [
       "                                        price                     material  \\\n",
       "0  \\r\\n                $79.99\\r\\n              Inner layer: Polyester 100%   \n",
       "1  \\r\\n                $29.99\\r\\n               Polyester 92%; Elastane 8%   \n",
       "2  \\r\\n                $29.99\\r\\n                             Viscose 100%   \n",
       "3  \\r\\n                $49.99\\r\\n                                   Fitted   \n",
       "4  \\r\\n                $24.99\\r\\n                             Viscose 100%   \n",
       "\n",
       "                                         description  \\\n",
       "0  Calf-length lace dress with a V-neck. Narrow, ...   \n",
       "1  Short dress in jersey with a printed design. S...   \n",
       "2  Short dress in washed, woven viscose fabric wi...   \n",
       "3  Short, fitted dress in stretch denim with a co...   \n",
       "4  Shirt dress in soft woven fabric. Buttons at f...   \n",
       "\n",
       "                                              imgurl                title  \\\n",
       "0  https://lp2.hm.com/hmgoepprod?set=source[/b3/e...           Lace Dress   \n",
       "1  https://lp2.hm.com/hmgoepprod?set=source[/d4/f...  Short-sleeved Dress   \n",
       "2  https://lp2.hm.com/hmgoepprod?set=source[/b7/3...          Short Dress   \n",
       "3  https://lp2.hm.com/hmgoepprod?set=source[/97/4...   Fitted Shirt Dress   \n",
       "4  https://lp2.hm.com/hmgoepprod?set=source[/1c/9...          Shirt Dress   \n",
       "\n",
       "                  img_id  \n",
       "0           0 Lace Dress  \n",
       "1  1 Short-sleeved Dress  \n",
       "2          2 Short Dress  \n",
       "3   3 Fitted Shirt Dress  \n",
       "4          4 Shirt Dress  "
      ]
     },
     "execution_count": 23,
     "metadata": {},
     "output_type": "execute_result"
    }
   ],
   "source": [
    "dresses.head()"
   ]
  },
  {
   "cell_type": "code",
   "execution_count": 24,
   "metadata": {},
   "outputs": [],
   "source": [
    "for i in range(0,len(dresses)):\n",
    "    r = requests.get(dresses.loc[i,'imgurl'],\n",
    "                 stream=True, headers={'User-agent': 'Mozilla/5.0'})\n",
    "    with open(\"{}.jpg\".format(dresses.loc[i,'img_id']), 'wb') as f:\n",
    "        r.raw.decode_content = True\n",
    "        shutil.copyfileobj(r.raw, f)"
   ]
  },
  {
   "cell_type": "code",
   "execution_count": null,
   "metadata": {},
   "outputs": [],
   "source": []
  }
 ],
 "metadata": {
  "kernelspec": {
   "display_name": "Python 3",
   "language": "python",
   "name": "python3"
  },
  "language_info": {
   "codemirror_mode": {
    "name": "ipython",
    "version": 3
   },
   "file_extension": ".py",
   "mimetype": "text/x-python",
   "name": "python",
   "nbconvert_exporter": "python",
   "pygments_lexer": "ipython3",
   "version": "3.6.5"
  }
 },
 "nbformat": 4,
 "nbformat_minor": 2
}
